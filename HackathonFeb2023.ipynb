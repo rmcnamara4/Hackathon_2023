{
  "nbformat": 4,
  "nbformat_minor": 0,
  "metadata": {
    "colab": {
      "provenance": []
    },
    "kernelspec": {
      "name": "python3",
      "display_name": "Python 3"
    },
    "language_info": {
      "name": "python"
    }
  },
  "cells": [
    {
      "cell_type": "markdown",
      "source": [
        "# Columbia Data Science Society - Hackathon February 2023"
      ],
      "metadata": {
        "id": "1f-gGzz1oKsJ"
      }
    },
    {
      "cell_type": "markdown",
      "source": [
        "### Importing the relevant libraries"
      ],
      "metadata": {
        "id": "TNOfdEeRoTig"
      }
    },
    {
      "cell_type": "code",
      "execution_count": 1,
      "metadata": {
        "id": "yeRHEf_8LvnB"
      },
      "outputs": [],
      "source": [
        "import json\n",
        "import pandas as pd\n",
        "import numpy as np\n",
        "import matplotlib.pyplot as plt\n",
        "from preprocessing.py import * \n",
        "import sklearn\n",
        "from sklearn.model_selection import train_test_split\n",
        "from sklearn.tree import DecisionTreeClassifier\n",
        "from sklearn.linear_model import LogisticRegression\n",
        "from imblearn.over_sampling import RandomOverSampler\n",
        "from sklearn.ensemble import RandomForestClassifier\n",
        "from sklearn.decomposition import PCA\n",
        "from sklearn.pipeline import make_pipeline\n",
        "from sklearn.preprocessing import StandardScaler\n",
        "from xgboost import XGBClassifier\n",
        "from sklearn.ensemble import ExtraTreesClassifier"
      ]
    },
    {
      "cell_type": "markdown",
      "source": [
        "### Importing the data\n",
        "After downloading the dataset at the url https://open.fda.gov/apis/downloads/, we loaded the data to the notebook and applied preprocessing. \n",
        "\n",
        "The preprocessing function is located in the python file preprocessing.py . "
      ],
      "metadata": {
        "id": "mpRQ6OuWocox"
      }
    },
    {
      "cell_type": "code",
      "source": [
        "with open('sample_data.json', 'r') as f:\n",
        "  data_ex = json.load(f)"
      ],
      "metadata": {
        "id": "JCAqYBB3aI7D"
      },
      "execution_count": 4,
      "outputs": []
    },
    {
      "cell_type": "code",
      "source": [
        "df = preprocess_data(data_ex)"
      ],
      "metadata": {
        "colab": {
          "base_uri": "https://localhost:8080/"
        },
        "id": "DEC4fiqG5SMR",
        "outputId": "7a1ecb55-83a2-4c7e-ebbc-69b965fa0862"
      },
      "execution_count": 13,
      "outputs": [
        {
          "output_type": "stream",
          "name": "stderr",
          "text": [
            "<ipython-input-5-c1ebf60a0d81>:41: FutureWarning: Dropping of nuisance columns in DataFrame reductions (with 'numeric_only=None') is deprecated; in a future version this will raise TypeError.  Select only valid columns before calling the reduction.\n",
            "  a = pd.DataFrame(df.sum()).reset_index()\n"
          ]
        }
      ]
    },
    {
      "cell_type": "markdown",
      "source": [
        "### Modeling \n",
        "\n",
        "In this part, we applied several model on the data : \n",
        "\n",
        "- **logistic regression** : accuracy : 0.8%\n",
        "- **logistic regression w/ pca** : accuracy : 0.71% \n",
        "- **decision tree w/ pca** : accuracy : 0.75%\n",
        "- **random forest w/ pca** : accuracy : 0.81%\n",
        "- **xgboost w/ pca** : accuracy : 0.79%\n",
        "- **extra tree w/ pca** : accuracy : 0.82%\n",
        "\n",
        "\n",
        "As the data we had was highly imbalanced (67% - 33%), we had to apply oversampling on the dataset in order to make the models relevant.\n",
        "\n",
        "The target value that we used for this study is the variable 'Serious'. It indicates how serious the issue related to the usage of a drug is. Thus we believe that this feature is extremely important to deal with as this is exactly what we want to prevent. \n",
        "Moreover, this variable is one of the very few that didn't had any missing value. "
      ],
      "metadata": {
        "id": "Lm6LndCVpOsw"
      }
    },
    {
      "cell_type": "code",
      "source": [
        "X_train, X_test, y_train, y_test = train_test_split(df.drop('Serious',axis = 1),df['Serious'],test_size = 0.2)"
      ],
      "metadata": {
        "id": "E4C_-4odIsIC"
      },
      "execution_count": 9,
      "outputs": []
    },
    {
      "cell_type": "code",
      "source": [
        "OvSamp = RandomOverSampler()\n",
        "\n",
        "X_train,y_train = OvSamp.fit_resample(X_train,y_train)"
      ],
      "metadata": {
        "colab": {
          "base_uri": "https://localhost:8080/"
        },
        "id": "Or7zoD16g_Wi",
        "outputId": "9b8ec6ca-9246-48f7-cfd1-d05c0e8a8bf2"
      },
      "execution_count": 56,
      "outputs": [
        {
          "output_type": "stream",
          "name": "stderr",
          "text": [
            "/usr/local/lib/python3.8/dist-packages/sklearn/utils/validation.py:1688: FutureWarning: Feature names only support names that are all strings. Got feature names with dtypes: ['int', 'str']. An error will be raised in 1.2.\n",
            "  warnings.warn(\n"
          ]
        }
      ]
    },
    {
      "cell_type": "code",
      "source": [
        "lr = make_pipeline(StandardScaler(),LogisticRegression())\n",
        "lr.fit(X_train,y_train)\n",
        "print(\"Training: \",lr.score(X_train,y_train))\n",
        "print(\"Test : \",lr.score(X_test,y_test))"
      ],
      "metadata": {
        "id": "6MGDZBhJXGww",
        "colab": {
          "base_uri": "https://localhost:8080/"
        },
        "outputId": "a669d077-63aa-4fda-f140-9bfacf4a6f2a"
      },
      "execution_count": 80,
      "outputs": [
        {
          "output_type": "stream",
          "name": "stderr",
          "text": [
            "/usr/local/lib/python3.8/dist-packages/sklearn/utils/validation.py:1688: FutureWarning: Feature names only support names that are all strings. Got feature names with dtypes: ['int', 'str']. An error will be raised in 1.2.\n",
            "  warnings.warn(\n",
            "/usr/local/lib/python3.8/dist-packages/sklearn/utils/validation.py:1688: FutureWarning: Feature names only support names that are all strings. Got feature names with dtypes: ['int', 'str']. An error will be raised in 1.2.\n",
            "  warnings.warn(\n",
            "/usr/local/lib/python3.8/dist-packages/sklearn/linear_model/_logistic.py:814: ConvergenceWarning: lbfgs failed to converge (status=1):\n",
            "STOP: TOTAL NO. of ITERATIONS REACHED LIMIT.\n",
            "\n",
            "Increase the number of iterations (max_iter) or scale the data as shown in:\n",
            "    https://scikit-learn.org/stable/modules/preprocessing.html\n",
            "Please also refer to the documentation for alternative solver options:\n",
            "    https://scikit-learn.org/stable/modules/linear_model.html#logistic-regression\n",
            "  n_iter_i = _check_optimize_result(\n",
            "/usr/local/lib/python3.8/dist-packages/sklearn/utils/validation.py:1688: FutureWarning: Feature names only support names that are all strings. Got feature names with dtypes: ['int', 'str']. An error will be raised in 1.2.\n",
            "  warnings.warn(\n"
          ]
        },
        {
          "output_type": "stream",
          "name": "stdout",
          "text": [
            "Training:  0.9206433907607867\n"
          ]
        },
        {
          "output_type": "stream",
          "name": "stderr",
          "text": [
            "/usr/local/lib/python3.8/dist-packages/sklearn/utils/validation.py:1688: FutureWarning: Feature names only support names that are all strings. Got feature names with dtypes: ['int', 'str']. An error will be raised in 1.2.\n",
            "  warnings.warn(\n"
          ]
        },
        {
          "output_type": "stream",
          "name": "stdout",
          "text": [
            "Test :  0.8004166666666667\n"
          ]
        }
      ]
    },
    {
      "cell_type": "code",
      "source": [
        "importance = lr.coef_[0]\n",
        "lr_feature_imp = pd.DataFrame([[X_train.columns[i],abs(v)] for i,v in enumerate(importance)]).sort_values(1,ascending=False)\n",
        "lr_feature_imp[:20]"
      ],
      "metadata": {
        "colab": {
          "base_uri": "https://localhost:8080/",
          "height": 676
        },
        "id": "OHcxZruTdCkU",
        "outputId": "97fb1599-326a-42c1-83d5-87035da73a5c"
      },
      "execution_count": 79,
      "outputs": [
        {
          "output_type": "execute_result",
          "data": {
            "text/plain": [
              "                                 0         1\n",
              "54          CYCLOPHOSPHAMIDEDosage  0.029014\n",
              "1345          HEPARIN SODIUMDosage  0.027526\n",
              "4                        DrugChar1  0.020289\n",
              "623       .ALPHA.-TOCOPHEROLDosage  0.019954\n",
              "2753          ERYTHROPOIETINDosage  0.018660\n",
              "67                ADALIMUMABDosage  0.017963\n",
              "59                 RITUXIMABDosage  0.017845\n",
              "1100            ENZALUTAMIDEDosage  0.017812\n",
              "337                DUPILUMABDosage  0.016869\n",
              "8                        DrugChar2  0.016852\n",
              "224              CARBOPLATINDosage  0.015664\n",
              "319                NIVOLUMABDosage  0.015082\n",
              "587   ESOMEPRAZOLE MAGNESIUMDosage  0.014836\n",
              "1482       TINZAPARIN SODIUMDosage  0.014458\n",
              "282                ACYCLOVIRDosage  0.013917\n",
              "843               INFLIXIMABDosage  0.013807\n",
              "125                MAGNESIUMDosage  0.013702\n",
              "559            SULFASALAZINEDosage  0.013330\n",
              "222            PEMBROLIZUMABDosage  0.013134\n",
              "2757            PENICILLIN VDosage  0.013010"
            ],
            "text/html": [
              "\n",
              "  <div id=\"df-16e54a9a-367a-4ba6-870e-f43f1ec79b4c\">\n",
              "    <div class=\"colab-df-container\">\n",
              "      <div>\n",
              "<style scoped>\n",
              "    .dataframe tbody tr th:only-of-type {\n",
              "        vertical-align: middle;\n",
              "    }\n",
              "\n",
              "    .dataframe tbody tr th {\n",
              "        vertical-align: top;\n",
              "    }\n",
              "\n",
              "    .dataframe thead th {\n",
              "        text-align: right;\n",
              "    }\n",
              "</style>\n",
              "<table border=\"1\" class=\"dataframe\">\n",
              "  <thead>\n",
              "    <tr style=\"text-align: right;\">\n",
              "      <th></th>\n",
              "      <th>0</th>\n",
              "      <th>1</th>\n",
              "    </tr>\n",
              "  </thead>\n",
              "  <tbody>\n",
              "    <tr>\n",
              "      <th>54</th>\n",
              "      <td>CYCLOPHOSPHAMIDEDosage</td>\n",
              "      <td>0.029014</td>\n",
              "    </tr>\n",
              "    <tr>\n",
              "      <th>1345</th>\n",
              "      <td>HEPARIN SODIUMDosage</td>\n",
              "      <td>0.027526</td>\n",
              "    </tr>\n",
              "    <tr>\n",
              "      <th>4</th>\n",
              "      <td>DrugChar1</td>\n",
              "      <td>0.020289</td>\n",
              "    </tr>\n",
              "    <tr>\n",
              "      <th>623</th>\n",
              "      <td>.ALPHA.-TOCOPHEROLDosage</td>\n",
              "      <td>0.019954</td>\n",
              "    </tr>\n",
              "    <tr>\n",
              "      <th>2753</th>\n",
              "      <td>ERYTHROPOIETINDosage</td>\n",
              "      <td>0.018660</td>\n",
              "    </tr>\n",
              "    <tr>\n",
              "      <th>67</th>\n",
              "      <td>ADALIMUMABDosage</td>\n",
              "      <td>0.017963</td>\n",
              "    </tr>\n",
              "    <tr>\n",
              "      <th>59</th>\n",
              "      <td>RITUXIMABDosage</td>\n",
              "      <td>0.017845</td>\n",
              "    </tr>\n",
              "    <tr>\n",
              "      <th>1100</th>\n",
              "      <td>ENZALUTAMIDEDosage</td>\n",
              "      <td>0.017812</td>\n",
              "    </tr>\n",
              "    <tr>\n",
              "      <th>337</th>\n",
              "      <td>DUPILUMABDosage</td>\n",
              "      <td>0.016869</td>\n",
              "    </tr>\n",
              "    <tr>\n",
              "      <th>8</th>\n",
              "      <td>DrugChar2</td>\n",
              "      <td>0.016852</td>\n",
              "    </tr>\n",
              "    <tr>\n",
              "      <th>224</th>\n",
              "      <td>CARBOPLATINDosage</td>\n",
              "      <td>0.015664</td>\n",
              "    </tr>\n",
              "    <tr>\n",
              "      <th>319</th>\n",
              "      <td>NIVOLUMABDosage</td>\n",
              "      <td>0.015082</td>\n",
              "    </tr>\n",
              "    <tr>\n",
              "      <th>587</th>\n",
              "      <td>ESOMEPRAZOLE MAGNESIUMDosage</td>\n",
              "      <td>0.014836</td>\n",
              "    </tr>\n",
              "    <tr>\n",
              "      <th>1482</th>\n",
              "      <td>TINZAPARIN SODIUMDosage</td>\n",
              "      <td>0.014458</td>\n",
              "    </tr>\n",
              "    <tr>\n",
              "      <th>282</th>\n",
              "      <td>ACYCLOVIRDosage</td>\n",
              "      <td>0.013917</td>\n",
              "    </tr>\n",
              "    <tr>\n",
              "      <th>843</th>\n",
              "      <td>INFLIXIMABDosage</td>\n",
              "      <td>0.013807</td>\n",
              "    </tr>\n",
              "    <tr>\n",
              "      <th>125</th>\n",
              "      <td>MAGNESIUMDosage</td>\n",
              "      <td>0.013702</td>\n",
              "    </tr>\n",
              "    <tr>\n",
              "      <th>559</th>\n",
              "      <td>SULFASALAZINEDosage</td>\n",
              "      <td>0.013330</td>\n",
              "    </tr>\n",
              "    <tr>\n",
              "      <th>222</th>\n",
              "      <td>PEMBROLIZUMABDosage</td>\n",
              "      <td>0.013134</td>\n",
              "    </tr>\n",
              "    <tr>\n",
              "      <th>2757</th>\n",
              "      <td>PENICILLIN VDosage</td>\n",
              "      <td>0.013010</td>\n",
              "    </tr>\n",
              "  </tbody>\n",
              "</table>\n",
              "</div>\n",
              "      <button class=\"colab-df-convert\" onclick=\"convertToInteractive('df-16e54a9a-367a-4ba6-870e-f43f1ec79b4c')\"\n",
              "              title=\"Convert this dataframe to an interactive table.\"\n",
              "              style=\"display:none;\">\n",
              "        \n",
              "  <svg xmlns=\"http://www.w3.org/2000/svg\" height=\"24px\"viewBox=\"0 0 24 24\"\n",
              "       width=\"24px\">\n",
              "    <path d=\"M0 0h24v24H0V0z\" fill=\"none\"/>\n",
              "    <path d=\"M18.56 5.44l.94 2.06.94-2.06 2.06-.94-2.06-.94-.94-2.06-.94 2.06-2.06.94zm-11 1L8.5 8.5l.94-2.06 2.06-.94-2.06-.94L8.5 2.5l-.94 2.06-2.06.94zm10 10l.94 2.06.94-2.06 2.06-.94-2.06-.94-.94-2.06-.94 2.06-2.06.94z\"/><path d=\"M17.41 7.96l-1.37-1.37c-.4-.4-.92-.59-1.43-.59-.52 0-1.04.2-1.43.59L10.3 9.45l-7.72 7.72c-.78.78-.78 2.05 0 2.83L4 21.41c.39.39.9.59 1.41.59.51 0 1.02-.2 1.41-.59l7.78-7.78 2.81-2.81c.8-.78.8-2.07 0-2.86zM5.41 20L4 18.59l7.72-7.72 1.47 1.35L5.41 20z\"/>\n",
              "  </svg>\n",
              "      </button>\n",
              "      \n",
              "  <style>\n",
              "    .colab-df-container {\n",
              "      display:flex;\n",
              "      flex-wrap:wrap;\n",
              "      gap: 12px;\n",
              "    }\n",
              "\n",
              "    .colab-df-convert {\n",
              "      background-color: #E8F0FE;\n",
              "      border: none;\n",
              "      border-radius: 50%;\n",
              "      cursor: pointer;\n",
              "      display: none;\n",
              "      fill: #1967D2;\n",
              "      height: 32px;\n",
              "      padding: 0 0 0 0;\n",
              "      width: 32px;\n",
              "    }\n",
              "\n",
              "    .colab-df-convert:hover {\n",
              "      background-color: #E2EBFA;\n",
              "      box-shadow: 0px 1px 2px rgba(60, 64, 67, 0.3), 0px 1px 3px 1px rgba(60, 64, 67, 0.15);\n",
              "      fill: #174EA6;\n",
              "    }\n",
              "\n",
              "    [theme=dark] .colab-df-convert {\n",
              "      background-color: #3B4455;\n",
              "      fill: #D2E3FC;\n",
              "    }\n",
              "\n",
              "    [theme=dark] .colab-df-convert:hover {\n",
              "      background-color: #434B5C;\n",
              "      box-shadow: 0px 1px 3px 1px rgba(0, 0, 0, 0.15);\n",
              "      filter: drop-shadow(0px 1px 2px rgba(0, 0, 0, 0.3));\n",
              "      fill: #FFFFFF;\n",
              "    }\n",
              "  </style>\n",
              "\n",
              "      <script>\n",
              "        const buttonEl =\n",
              "          document.querySelector('#df-16e54a9a-367a-4ba6-870e-f43f1ec79b4c button.colab-df-convert');\n",
              "        buttonEl.style.display =\n",
              "          google.colab.kernel.accessAllowed ? 'block' : 'none';\n",
              "\n",
              "        async function convertToInteractive(key) {\n",
              "          const element = document.querySelector('#df-16e54a9a-367a-4ba6-870e-f43f1ec79b4c');\n",
              "          const dataTable =\n",
              "            await google.colab.kernel.invokeFunction('convertToInteractive',\n",
              "                                                     [key], {});\n",
              "          if (!dataTable) return;\n",
              "\n",
              "          const docLinkHtml = 'Like what you see? Visit the ' +\n",
              "            '<a target=\"_blank\" href=https://colab.research.google.com/notebooks/data_table.ipynb>data table notebook</a>'\n",
              "            + ' to learn more about interactive tables.';\n",
              "          element.innerHTML = '';\n",
              "          dataTable['output_type'] = 'display_data';\n",
              "          await google.colab.output.renderOutput(dataTable, element);\n",
              "          const docLink = document.createElement('div');\n",
              "          docLink.innerHTML = docLinkHtml;\n",
              "          element.appendChild(docLink);\n",
              "        }\n",
              "      </script>\n",
              "    </div>\n",
              "  </div>\n",
              "  "
            ]
          },
          "metadata": {},
          "execution_count": 79
        }
      ]
    },
    {
      "cell_type": "markdown",
      "source": [
        "As the data we're using is highly sparse (over 3700 features), the training of the model is very long and costly on the computational capacity. \\\\\n",
        "\n",
        "Therefore we decided to apply PCA in order to make it possible to train other models (tree based models for example, which are very effective). We do know that by applying PCA we lose the interpretability of our model. We cannot use feature importance in order to identify which element might cause the serious hasard to happend. However, we can predict with a good accuracy which case of patient is the most likely to suffer from a medical hasard. \n",
        "\n"
      ],
      "metadata": {
        "id": "a9ktZIdaro4W"
      }
    },
    {
      "cell_type": "code",
      "source": [
        "pca_lr = make_pipeline(StandardScaler(),PCA(n_components=15),LogisticRegression())\n",
        "pca_lr.fit(X_train,y_train)\n",
        "print('Train : ',pca_lr.score(X_train,y_train))\n",
        "print('Test : ',pca_lr.score(X_test,y_test))"
      ],
      "metadata": {
        "colab": {
          "base_uri": "https://localhost:8080/"
        },
        "id": "EM8GN-r6igfV",
        "outputId": "0bdccc59-590d-4cc1-eb97-8cdfb2406bb0"
      },
      "execution_count": 69,
      "outputs": [
        {
          "output_type": "stream",
          "name": "stderr",
          "text": [
            "/usr/local/lib/python3.8/dist-packages/sklearn/utils/validation.py:1688: FutureWarning: Feature names only support names that are all strings. Got feature names with dtypes: ['int', 'str']. An error will be raised in 1.2.\n",
            "  warnings.warn(\n",
            "/usr/local/lib/python3.8/dist-packages/sklearn/utils/validation.py:1688: FutureWarning: Feature names only support names that are all strings. Got feature names with dtypes: ['int', 'str']. An error will be raised in 1.2.\n",
            "  warnings.warn(\n",
            "/usr/local/lib/python3.8/dist-packages/sklearn/utils/validation.py:1688: FutureWarning: Feature names only support names that are all strings. Got feature names with dtypes: ['int', 'str']. An error will be raised in 1.2.\n",
            "  warnings.warn(\n"
          ]
        },
        {
          "output_type": "stream",
          "name": "stdout",
          "text": [
            "Train :  0.7400518371703003\n"
          ]
        },
        {
          "output_type": "stream",
          "name": "stderr",
          "text": [
            "/usr/local/lib/python3.8/dist-packages/sklearn/utils/validation.py:1688: FutureWarning: Feature names only support names that are all strings. Got feature names with dtypes: ['int', 'str']. An error will be raised in 1.2.\n",
            "  warnings.warn(\n"
          ]
        },
        {
          "output_type": "stream",
          "name": "stdout",
          "text": [
            "Test :  0.7095833333333333\n"
          ]
        }
      ]
    },
    {
      "cell_type": "code",
      "source": [
        "pca_dt = make_pipeline(StandardScaler(),PCA(n_components=15),DecisionTreeClassifier())\n",
        "pca_dt.fit(X_train,y_train)\n",
        "print('Train : ',pca_dt.score(X_train,y_train))\n",
        "print('Test : ',pca_dt.score(X_test,y_test))"
      ],
      "metadata": {
        "colab": {
          "base_uri": "https://localhost:8080/"
        },
        "id": "jssmYOQHjsMg",
        "outputId": "b889cb98-aabb-40e9-bfa0-87707636a2b4"
      },
      "execution_count": 70,
      "outputs": [
        {
          "output_type": "stream",
          "name": "stderr",
          "text": [
            "/usr/local/lib/python3.8/dist-packages/sklearn/utils/validation.py:1688: FutureWarning: Feature names only support names that are all strings. Got feature names with dtypes: ['int', 'str']. An error will be raised in 1.2.\n",
            "  warnings.warn(\n",
            "/usr/local/lib/python3.8/dist-packages/sklearn/utils/validation.py:1688: FutureWarning: Feature names only support names that are all strings. Got feature names with dtypes: ['int', 'str']. An error will be raised in 1.2.\n",
            "  warnings.warn(\n",
            "/usr/local/lib/python3.8/dist-packages/sklearn/utils/validation.py:1688: FutureWarning: Feature names only support names that are all strings. Got feature names with dtypes: ['int', 'str']. An error will be raised in 1.2.\n",
            "  warnings.warn(\n"
          ]
        },
        {
          "output_type": "stream",
          "name": "stdout",
          "text": [
            "Train :  0.805000762311328\n"
          ]
        },
        {
          "output_type": "stream",
          "name": "stderr",
          "text": [
            "/usr/local/lib/python3.8/dist-packages/sklearn/utils/validation.py:1688: FutureWarning: Feature names only support names that are all strings. Got feature names with dtypes: ['int', 'str']. An error will be raised in 1.2.\n",
            "  warnings.warn(\n"
          ]
        },
        {
          "output_type": "stream",
          "name": "stdout",
          "text": [
            "Test :  0.74625\n"
          ]
        }
      ]
    },
    {
      "cell_type": "code",
      "source": [
        "pca_rf = make_pipeline(StandardScaler(),PCA(n_components=15),RandomForestClassifier())\n",
        "pca_rf.fit(X_train,y_train)\n",
        "print('Train : ',pca_rf.score(X_train,y_train))\n",
        "print('Test : ',pca_rf.score(X_test,y_test))"
      ],
      "metadata": {
        "colab": {
          "base_uri": "https://localhost:8080/"
        },
        "id": "kEkgIQU9jzK4",
        "outputId": "88dad76d-5063-472c-8fac-ea02f13d645c"
      },
      "execution_count": 72,
      "outputs": [
        {
          "output_type": "stream",
          "name": "stderr",
          "text": [
            "/usr/local/lib/python3.8/dist-packages/sklearn/utils/validation.py:1688: FutureWarning: Feature names only support names that are all strings. Got feature names with dtypes: ['int', 'str']. An error will be raised in 1.2.\n",
            "  warnings.warn(\n",
            "/usr/local/lib/python3.8/dist-packages/sklearn/utils/validation.py:1688: FutureWarning: Feature names only support names that are all strings. Got feature names with dtypes: ['int', 'str']. An error will be raised in 1.2.\n",
            "  warnings.warn(\n",
            "/usr/local/lib/python3.8/dist-packages/sklearn/utils/validation.py:1688: FutureWarning: Feature names only support names that are all strings. Got feature names with dtypes: ['int', 'str']. An error will be raised in 1.2.\n",
            "  warnings.warn(\n"
          ]
        },
        {
          "output_type": "stream",
          "name": "stdout",
          "text": [
            "Train :  0.9437414239975606\n"
          ]
        },
        {
          "output_type": "stream",
          "name": "stderr",
          "text": [
            "/usr/local/lib/python3.8/dist-packages/sklearn/utils/validation.py:1688: FutureWarning: Feature names only support names that are all strings. Got feature names with dtypes: ['int', 'str']. An error will be raised in 1.2.\n",
            "  warnings.warn(\n"
          ]
        },
        {
          "output_type": "stream",
          "name": "stdout",
          "text": [
            "Test :  0.8129166666666666\n"
          ]
        }
      ]
    },
    {
      "cell_type": "code",
      "source": [
        "pca_xb = make_pipeline(StandardScaler(),PCA(n_components=15),XGBClassifier())\n",
        "pca_xb.fit(X_train,y_train)\n",
        "print('Train : ',pca_xb.score(X_train,y_train))\n",
        "print('Test : ',pca_xb.score(X_test,y_test))"
      ],
      "metadata": {
        "colab": {
          "base_uri": "https://localhost:8080/"
        },
        "id": "dAu3N7N6ktZB",
        "outputId": "40512f74-3cfe-4655-d968-b4286db8677a"
      },
      "execution_count": 74,
      "outputs": [
        {
          "output_type": "stream",
          "name": "stderr",
          "text": [
            "/usr/local/lib/python3.8/dist-packages/sklearn/utils/validation.py:1688: FutureWarning: Feature names only support names that are all strings. Got feature names with dtypes: ['int', 'str']. An error will be raised in 1.2.\n",
            "  warnings.warn(\n",
            "/usr/local/lib/python3.8/dist-packages/sklearn/utils/validation.py:1688: FutureWarning: Feature names only support names that are all strings. Got feature names with dtypes: ['int', 'str']. An error will be raised in 1.2.\n",
            "  warnings.warn(\n",
            "/usr/local/lib/python3.8/dist-packages/sklearn/utils/validation.py:1688: FutureWarning: Feature names only support names that are all strings. Got feature names with dtypes: ['int', 'str']. An error will be raised in 1.2.\n",
            "  warnings.warn(\n"
          ]
        },
        {
          "output_type": "stream",
          "name": "stdout",
          "text": [
            "Train :  0.8133861869187377\n"
          ]
        },
        {
          "output_type": "stream",
          "name": "stderr",
          "text": [
            "/usr/local/lib/python3.8/dist-packages/sklearn/utils/validation.py:1688: FutureWarning: Feature names only support names that are all strings. Got feature names with dtypes: ['int', 'str']. An error will be raised in 1.2.\n",
            "  warnings.warn(\n"
          ]
        },
        {
          "output_type": "stream",
          "name": "stdout",
          "text": [
            "Test :  0.7929166666666667\n"
          ]
        }
      ]
    },
    {
      "cell_type": "code",
      "source": [
        "pca_et = make_pipeline(StandardScaler(),PCA(n_components=15),ExtraTreesClassifier())\n",
        "pca_et.fit(X_train,y_train)\n",
        "print('Train : ',pca_et.score(X_train,y_train))\n",
        "print('Test : ',pca_et.score(X_test,y_test))"
      ],
      "metadata": {
        "colab": {
          "base_uri": "https://localhost:8080/"
        },
        "id": "BZXP23lyldMr",
        "outputId": "9724273b-1dfa-444b-d8b9-cf24a14b1f86"
      },
      "execution_count": 76,
      "outputs": [
        {
          "output_type": "stream",
          "name": "stderr",
          "text": [
            "/usr/local/lib/python3.8/dist-packages/sklearn/utils/validation.py:1688: FutureWarning: Feature names only support names that are all strings. Got feature names with dtypes: ['int', 'str']. An error will be raised in 1.2.\n",
            "  warnings.warn(\n",
            "/usr/local/lib/python3.8/dist-packages/sklearn/utils/validation.py:1688: FutureWarning: Feature names only support names that are all strings. Got feature names with dtypes: ['int', 'str']. An error will be raised in 1.2.\n",
            "  warnings.warn(\n",
            "/usr/local/lib/python3.8/dist-packages/sklearn/utils/validation.py:1688: FutureWarning: Feature names only support names that are all strings. Got feature names with dtypes: ['int', 'str']. An error will be raised in 1.2.\n",
            "  warnings.warn(\n"
          ]
        },
        {
          "output_type": "stream",
          "name": "stdout",
          "text": [
            "Train :  0.9580728769629516\n"
          ]
        },
        {
          "output_type": "stream",
          "name": "stderr",
          "text": [
            "/usr/local/lib/python3.8/dist-packages/sklearn/utils/validation.py:1688: FutureWarning: Feature names only support names that are all strings. Got feature names with dtypes: ['int', 'str']. An error will be raised in 1.2.\n",
            "  warnings.warn(\n"
          ]
        },
        {
          "output_type": "stream",
          "name": "stdout",
          "text": [
            "Test :  0.8233333333333334\n"
          ]
        }
      ]
    },
    {
      "cell_type": "code",
      "source": [],
      "metadata": {
        "id": "bstKsXnvr-PS"
      },
      "execution_count": null,
      "outputs": []
    }
  ]
}
